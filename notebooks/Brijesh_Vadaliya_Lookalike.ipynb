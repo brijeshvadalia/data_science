{
 "cells": [
  {
   "cell_type": "code",
   "execution_count": 11,
   "metadata": {},
   "outputs": [
    {
     "name": "stdout",
     "output_type": "stream",
     "text": [
      "Lookalike recommendations have been saved to 'Lookalike.csv'\n"
     ]
    }
   ],
   "source": [
    "import pandas as pd\n",
    "import numpy as np\n",
    "from sklearn.metrics.pairwise import cosine_similarity\n",
    "from collections import defaultdict\n",
    "\n",
    "# Load datasets\n",
    "customers_df = pd.read_csv('../data/Customers.csv')\n",
    "products_df = pd.read_csv('../data/Products.csv')\n",
    "transactions_df = pd.read_csv('../data/Transactions.csv')\n",
    "\n",
    "# Merge customers and transactions to get a customer-product matrix\n",
    "transactions_df = transactions_df.merge(customers_df[['CustomerID']], on='CustomerID', how='left')\n",
    "transactions_df = transactions_df.merge(products_df[['ProductID', 'ProductName']], on='ProductID', how='left')\n",
    "\n",
    "# Create a customer-product interaction matrix\n",
    "customer_product_matrix = pd.pivot_table(transactions_df, index='CustomerID', columns='ProductID', values='Quantity', aggfunc='sum', fill_value=0)\n",
    "\n",
    "# Calculate cosine similarity between customers based on their product purchases\n",
    "cosine_sim_matrix = cosine_similarity(customer_product_matrix)\n",
    "\n",
    "# Convert similarity matrix to a DataFrame for easier manipulation\n",
    "cosine_sim_df = pd.DataFrame(cosine_sim_matrix, index=customer_product_matrix.index, columns=customer_product_matrix.index)\n",
    "\n",
    "# Function to get top 3 similar customers for a given customer\n",
    "def get_top_3_lookalikes(customer_id):\n",
    "    # Get the similarity scores for the given customer\n",
    "    similar_customers = cosine_sim_df[customer_id].sort_values(ascending=False)\n",
    "    # Exclude the customer itself (first customer will have 1 similarity with itself)\n",
    "    similar_customers = similar_customers.drop(customer_id)\n",
    "    # Get top 3 customers and their similarity scores\n",
    "    top_3_similar = similar_customers.head(3)\n",
    "    return [(cust_id, score) for cust_id, score in zip(top_3_similar.index, top_3_similar.values)]\n",
    "\n",
    "# Prepare the lookalike recommendations for the first 20 customers\n",
    "lookalike_recommendations = defaultdict(list)\n",
    "for i in range(1, 21):  # For customers C0001 to C0020\n",
    "    customer_id = f'C{i:04d}'  # Format customer ID (C0001, C0002, ..., C0020)\n",
    "    lookalike_recommendations[customer_id] = get_top_3_lookalikes(customer_id)\n",
    "\n",
    "# Convert the recommendations to a DataFrame\n",
    "lookalike_data = []\n",
    "for customer_id, recommendations in lookalike_recommendations.items():\n",
    "    for rec in recommendations:\n",
    "        lookalike_data.append([customer_id, rec[0], rec[1]])\n",
    "\n",
    "lookalike_df = pd.DataFrame(lookalike_data, columns=['CustomerID', 'RecommendedCustomerID', 'SimilarityScore'])\n",
    "\n",
    "# Save the lookalike recommendations to CSV\n",
    "lookalike_df.to_csv('Brijesh_Vadaliya_Lookalike.csv', index=False)\n",
    "\n",
    "print(\"Lookalike recommendations have been saved to 'Brijesh_Vadaliya_Lookalike.csv'\")\n"
   ]
  }
 ],
 "metadata": {
  "kernelspec": {
   "display_name": "Python 3",
   "language": "python",
   "name": "python3"
  },
  "language_info": {
   "codemirror_mode": {
    "name": "ipython",
    "version": 3
   },
   "file_extension": ".py",
   "mimetype": "text/x-python",
   "name": "python",
   "nbconvert_exporter": "python",
   "pygments_lexer": "ipython3",
   "version": "3.13.1"
  }
 },
 "nbformat": 4,
 "nbformat_minor": 2
}
